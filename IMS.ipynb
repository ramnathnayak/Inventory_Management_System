{
 "cells": [
  {
   "cell_type": "code",
   "execution_count": 4,
   "metadata": {},
   "outputs": [],
   "source": [
    "dic = {\"1\": {\"name\": \"earphone\", \"price\": 189.0, \"quantity\": 25, \"category\": \"electronics\", \"discount\": 0}, \"2\": {\"name\": \"HDD\", \"price\": 45.0, \"quantity\": 25, \"category\": \"electronics\", \"discount\": 4}, \"3\": {\"name\": \"CHARGER\", \"price\": 99.0, \"quantity\": 25, \"category\": \"electronics\", \"discount\": 12}, \"4\": {\"name\": \"TEA\", \"price\": 49.0, \"quantity\": 25, \"category\": \"Drinks\", \"discount\": 3}, \"5\": {\"name\": \"cashew\", \"price\": 149.0, \"quantity\": 25, \"category\": \"eatables\", \"discount\": 8}, \"6\": {\"name\": \"TAPE\", \"price\": 299.0, \"quantity\": 25, \"category\": \"eatables\", \"discount\": 23}, \"7\": {\"name\": \"gooday\", \"price\": 149.0, \"quantity\": 25, \"category\": \"eatables\", \"discount\": 13}, \"8\": {\"name\": \"parle g\", \"price\": 89.0, \"quantity\": 25, \"category\": \"Drinks\", \"discount\": 67}, \"9\": {\"name\": \"bingo\", \"price\": 69.0, \"quantity\": 25, \"category\": \"Drinks\", \"discount\": 11}, \"10\": {\"name\": \"5 star\", \"price\": 49.0, \"quantity\": 25, \"category\": \"eatables\", \"discount\": 15}, \"11\": {\"name\": \"hersheys\", \"price\": 149.0, \"quantity\": 25, \"category\": \"eatables\", \"discount\": 45}, \"12\": {\"name\": \"oil\", \"price\": 79.0, \"quantity\": 25, \"category\": \"eatables\", \"discount\": 0}, \"13\": {\"name\": \"dairy milk\", \"price\": 249.0, \"quantity\": 25, \"category\": \"Drinks\", \"discount\": 34}, \"14\": {\"name\": \"hair oil\", \"price\": 229.0, \"quantity\": 25, \"category\": \"cosmetic\", \"discount\": 12}, \"15\": {\"name\": \"comb\", \"price\": 29.0, \"quantity\": 25, \"category\": \"cosmetic\", \"discount\": 76}, \"16\": {\"name\": \"refine oil\", \"price\": 39.0, \"quantity\": 25, \"category\": \"eatables\", \"discount\": 10}, \"17\": {\"name\": \"masala puri\", \"price\": 10.0, \"quantity\": 25, \"category\": \"eatables\", \"discount\": 7}, \"18\": {\"name\": \"candy\", \"price\": 50.0, \"quantity\": 25, \"category\": \"eatables\", \"discount\": 56}, \"19\": {\"name\": \"sauce\", \"price\": 100.0, \"quantity\": 25, \"category\": \"eatables\", \"discount\": 34}, \"20\": {\"name\": \"soyabean\", \"price\": 150.0, \"quantity\": 25, \"category\": \"eatables\", \"discount\": 21}, \"21\": {\"name\": \"fruits\", \"price\": 200.0, \"quantity\": 25, \"category\": \"eatables\", \"discount\": 17}, \"22\": {\"name\": \"stationary\", \"price\": 250.0, \"quantity\": 25, \"category\": \"education\", \"discount\": 14}, \"23\": {\"name\": \"cake\", \"price\": 80.0, \"quantity\": 25, \"category\": \"decor\", \"discount\": 0}, \"24\": {\"name\": \"almond\", \"price\": 75.0, \"quantity\": 25, \"category\": \"decor\", \"discount\": 5 }, \"25\": {\"name\": \"glass\", \"price\": 45.0, \"quantity\": 25, \"category\": \"decor\", \"discount\": 6}, \"26\": {\"name\": \"alcohol\", \"price\": 105.0, \"quantity\": 25, \"category\": \"Drinks\", \"discount\": 80}, \"27\": {\"name\": \"hairpin\", \"price\": 155.0, \"quantity\": 25, \"category\": \"cosmetic\", \"discount\": 43}, \"28\": {\"name\": \"facewash\", \"price\": 245.0, \"quantity\": 25, \"category\": \"cosmetic\", \"discount\": 57}, \"29\": {\"name\": \"toys\", \"price\": 225.0, \"quantity\": 25, \"category\": \"decor\", \"discount\": 90}, \"30\": {\"name\": \"book\", \"price\": 285.0, \"quantity\": 50, \"category\": \"education\", \"discount\": 1}}\n"
   ]
  },
  {
   "cell_type": "code",
   "execution_count": 3,
   "metadata": {},
   "outputs": [],
   "source": [
    "dic['1'][\"price\"] = 200\n"
   ]
  },
  {
   "cell_type": "code",
   "execution_count": 4,
   "metadata": {},
   "outputs": [
    {
     "name": "stdout",
     "output_type": "stream",
     "text": [
      "200\n"
     ]
    }
   ],
   "source": [
    "print(dic['1'][\"price\"])"
   ]
  },
  {
   "cell_type": "code",
   "execution_count": 8,
   "metadata": {},
   "outputs": [],
   "source": [
    "import json"
   ]
  },
  {
   "cell_type": "code",
   "execution_count": 7,
   "metadata": {},
   "outputs": [],
   "source": [
    "fd = open(\"dict1.txt\",'r')\n",
    "\n",
    "t = fd.read()\n",
    "\n",
    "fd.close()"
   ]
  },
  {
   "cell_type": "code",
   "execution_count": 8,
   "metadata": {},
   "outputs": [
    {
     "data": {
      "text/plain": [
       "{'1': {'name': 'earphone',\n",
       "  'price': 189.0,\n",
       "  'quantity': 25,\n",
       "  'category': 'electronics',\n",
       "  'discount': 0},\n",
       " '2': {'name': 'HDD',\n",
       "  'price': 45.0,\n",
       "  'quantity': 25,\n",
       "  'category': 'electronics',\n",
       "  'discount': 4},\n",
       " '3': {'name': 'CHARGER',\n",
       "  'price': 99.0,\n",
       "  'quantity': 25,\n",
       "  'category': 'electronics',\n",
       "  'discount': 12},\n",
       " '4': {'name': 'TEA',\n",
       "  'price': 49.0,\n",
       "  'quantity': 25,\n",
       "  'category': 'Drinks',\n",
       "  'discount': 3},\n",
       " '5': {'name': 'cashew',\n",
       "  'price': 149.0,\n",
       "  'quantity': 25,\n",
       "  'category': 'eatables',\n",
       "  'discount': 8},\n",
       " '6': {'name': 'TAPE',\n",
       "  'price': 299.0,\n",
       "  'quantity': 25,\n",
       "  'category': 'eatables',\n",
       "  'discount': 23},\n",
       " '7': {'name': 'gooday',\n",
       "  'price': 149.0,\n",
       "  'quantity': 25,\n",
       "  'category': 'eatables',\n",
       "  'discount': 13},\n",
       " '8': {'name': 'parle g',\n",
       "  'price': 89.0,\n",
       "  'quantity': 25,\n",
       "  'category': 'Drinks',\n",
       "  'discount': 67},\n",
       " '9': {'name': 'bingo',\n",
       "  'price': 69.0,\n",
       "  'quantity': 25,\n",
       "  'category': 'Drinks',\n",
       "  'discount': 11},\n",
       " '10': {'name': '5 star',\n",
       "  'price': 49.0,\n",
       "  'quantity': 25,\n",
       "  'category': 'eatables',\n",
       "  'discount': 15},\n",
       " '11': {'name': 'hersheys',\n",
       "  'price': 149.0,\n",
       "  'quantity': 25,\n",
       "  'category': 'eatables',\n",
       "  'discount': 45},\n",
       " '12': {'name': 'oil',\n",
       "  'price': 79.0,\n",
       "  'quantity': 25,\n",
       "  'category': 'eatables',\n",
       "  'discount': 0},\n",
       " '13': {'name': 'dairy milk',\n",
       "  'price': 249.0,\n",
       "  'quantity': 25,\n",
       "  'category': 'Drinks',\n",
       "  'discount': 34},\n",
       " '14': {'name': 'hair oil',\n",
       "  'price': 229.0,\n",
       "  'quantity': 25,\n",
       "  'category': 'cosmetic',\n",
       "  'discount': 12},\n",
       " '15': {'name': 'comb',\n",
       "  'price': 29.0,\n",
       "  'quantity': 25,\n",
       "  'category': 'cosmetic',\n",
       "  'discount': 76},\n",
       " '16': {'name': 'refine oil',\n",
       "  'price': 39.0,\n",
       "  'quantity': 25,\n",
       "  'category': 'eatables',\n",
       "  'discount': 10},\n",
       " '17': {'name': 'masala puri',\n",
       "  'price': 10.0,\n",
       "  'quantity': 25,\n",
       "  'category': 'eatables',\n",
       "  'discount': 7},\n",
       " '18': {'name': 'candy',\n",
       "  'price': 50.0,\n",
       "  'quantity': 25,\n",
       "  'category': 'eatables',\n",
       "  'discount': 56},\n",
       " '19': {'name': 'sauce',\n",
       "  'price': 100.0,\n",
       "  'quantity': 25,\n",
       "  'category': 'eatables',\n",
       "  'discount': 34},\n",
       " '20': {'name': 'soyabean',\n",
       "  'price': 150.0,\n",
       "  'quantity': 25,\n",
       "  'category': 'eatables',\n",
       "  'discount': 21},\n",
       " '21': {'name': 'fruits',\n",
       "  'price': 200.0,\n",
       "  'quantity': 25,\n",
       "  'category': 'eatables',\n",
       "  'discount': 17},\n",
       " '22': {'name': 'stationary',\n",
       "  'price': 250.0,\n",
       "  'quantity': 25,\n",
       "  'category': 'education',\n",
       "  'discount': 14},\n",
       " '23': {'name': 'cake',\n",
       "  'price': 80.0,\n",
       "  'quantity': 25,\n",
       "  'category': 'decor',\n",
       "  'discount': 0},\n",
       " '24': {'name': 'almond',\n",
       "  'price': 75.0,\n",
       "  'quantity': 25,\n",
       "  'category': 'decor',\n",
       "  'discount': 5},\n",
       " '25': {'name': 'glass',\n",
       "  'price': 45.0,\n",
       "  'quantity': 25,\n",
       "  'category': 'decor',\n",
       "  'discount': 6},\n",
       " '26': {'name': 'alcohol',\n",
       "  'price': 105.0,\n",
       "  'quantity': 25,\n",
       "  'category': 'Drinks',\n",
       "  'discount': 80},\n",
       " '27': {'name': 'hairpin',\n",
       "  'price': 155.0,\n",
       "  'quantity': 25,\n",
       "  'category': 'cosmetic',\n",
       "  'discount': 43},\n",
       " '28': {'name': 'facewash',\n",
       "  'price': 245.0,\n",
       "  'quantity': 25,\n",
       "  'category': 'cosmetic',\n",
       "  'discount': 57},\n",
       " '29': {'name': 'toys',\n",
       "  'price': 225.0,\n",
       "  'quantity': 25,\n",
       "  'category': 'decor',\n",
       "  'discount': 90},\n",
       " '30': {'name': 'book',\n",
       "  'price': 285.0,\n",
       "  'quantity': 50,\n",
       "  'category': 'education',\n",
       "  'discount': 1}}"
      ]
     },
     "execution_count": 8,
     "metadata": {},
     "output_type": "execute_result"
    }
   ],
   "source": [
    "dic = json.loads(t)\n",
    "dic"
   ]
  },
  {
   "cell_type": "code",
   "execution_count": 9,
   "metadata": {},
   "outputs": [
    {
     "name": "stdout",
     "output_type": "stream",
     "text": [
      "\n",
      "-------------------------\n",
      "Welcome to Nayak elctronics\n",
      "-------------------------\n",
      "1.View items\n",
      "2.Buy items\n",
      "3.Exit\n",
      "\n"
     ]
    }
   ],
   "source": [
    "print('''\n",
    "-------------------------\n",
    "Welcome to Nayak elctronics\n",
    "-------------------------\n",
    "1.View items\n",
    "2.Buy items\n",
    "3.Exit\n",
    "''')"
   ]
  },
  {
   "cell_type": "code",
   "execution_count": 1,
   "metadata": {},
   "outputs": [
    {
     "name": "stdout",
     "output_type": "stream",
     "text": [
      "Enter your option :1\n",
      "----------------------------------\n",
      "items available in Nayak market\n",
      "----------------------------------\n",
      "Please enter the items and quantity key which you would like to purchase:\n",
      "1 3\n",
      "4 6\n",
      "7 8\n",
      "2 7\n",
      "11 2\n"
     ]
    }
   ],
   "source": [
    "choice = int(input(\"Enter your option :\"))\n",
    "if choice == 1:\n",
    "  print('----------------------------------')\n",
    "  print(\"items available in Nayak market\")\n",
    "  \n",
    "  print('----------------------------------')\n",
    "  \n",
    "  print('Please enter the items and quantity key which you would like to purchase:')\n",
    "  pur={}\n",
    "  for i in range (0,5):\n",
    "    n=input()\n",
    "    m=n.split(' ')\n",
    "    pur[m[0]] = int(m[1])\n",
    "\n",
    "\n",
    "\n",
    "if choice == 2:\n",
    "  print(\"Buy the items of your choice\")\n",
    "\n",
    "  amt=0\n",
    "  for i in pur:    \n",
    "    if(i in dic.keys()):\n",
    "        print('you ordered {} {}'.format(pur[i],dic[i]['name']))\n",
    "        print('Cost {} '.format(pur[i]*dic[i]['price']))\n",
    "        amt+=pur[i]*dic[i]['price']\n",
    "  print('Total bill : ',amt)\n",
    "\n",
    "  total={}\n",
    "  s=1\n",
    "  for i in pur:\n",
    "    if(i in dic.keys()):\n",
    "        sne={}\n",
    "        sne['item'] = dic[i]['name']\n",
    "        sne['quantity'] = pur[i]\n",
    "        sne['price'] = dic[i]['price']\n",
    "        sne['SP'] = dic[i]['price']*(1.0 - dic[i]['discount']/100.0)\n",
    "        sne['total'] = sne['SP']*pur[i]\n",
    "        total[s] = sne\n",
    "        s+=1\n",
    "  print(toal)\n",
    "if choice == 3 :\n",
    "  print(\"Exit\")"
   ]
  },
  {
   "cell_type": "code",
   "execution_count": 5,
   "metadata": {},
   "outputs": [
    {
     "name": "stdout",
     "output_type": "stream",
     "text": [
      "you ordered 3 earphone\n",
      "Cost 567.0 \n",
      "you ordered 6 TEA\n",
      "Cost 294.0 \n",
      "you ordered 8 gooday\n",
      "Cost 1192.0 \n",
      "you ordered 7 HDD\n",
      "Cost 315.0 \n",
      "you ordered 2 hersheys\n",
      "Cost 298.0 \n",
      "Total bill :  2666.0\n"
     ]
    }
   ],
   "source": [
    "amt=0\n",
    "for i in pur:    \n",
    "  if(i in dic.keys()):\n",
    "    print('you ordered {} {}'.format(pur[i],dic[i]['name']))\n",
    "    print('Cost {} '.format(pur[i]*dic[i]['price']))\n",
    "    amt+=pur[i]*dic[i]['price']\n",
    "print('Total bill : ',amt)"
   ]
  },
  {
   "cell_type": "code",
   "execution_count": 6,
   "metadata": {},
   "outputs": [
    {
     "name": "stdout",
     "output_type": "stream",
     "text": [
      "Enter your option :2\n",
      "Buy the items of your choice\n",
      "you ordered 3 earphone\n",
      "Cost 567.0 \n",
      "you ordered 6 TEA\n",
      "Cost 294.0 \n",
      "you ordered 8 gooday\n",
      "Cost 1192.0 \n",
      "you ordered 7 HDD\n",
      "Cost 315.0 \n",
      "you ordered 2 hersheys\n",
      "Cost 298.0 \n",
      "Total bill :  2666.0\n",
      "{1: {'item': 'earphone', 'quantity': 3, 'price': 189.0, 'SP': 189.0, 'total': 567.0}, 2: {'item': 'TEA', 'quantity': 6, 'price': 49.0, 'SP': 47.53, 'total': 285.18}, 3: {'item': 'gooday', 'quantity': 8, 'price': 149.0, 'SP': 129.63, 'total': 1037.04}, 4: {'item': 'HDD', 'quantity': 7, 'price': 45.0, 'SP': 43.199999999999996, 'total': 302.4}, 5: {'item': 'hersheys', 'quantity': 2, 'price': 149.0, 'SP': 81.95, 'total': 163.9}}\n"
     ]
    }
   ],
   "source": [
    "choice = int(input(\"Enter your option :\"))\n",
    "if choice == 1:\n",
    "  print('----------------------------------')\n",
    "  print(\"items available in HVG market\")\n",
    "  \n",
    "  print('----------------------------------')\n",
    "  \n",
    "  print('Please enter the items and quantity key which you would like to purchase:')\n",
    "  pur={}\n",
    "  for i in range (0,5):\n",
    "    n=input()\n",
    "    m=n.split(' ')\n",
    "    pur[m[0]] = int(m[1])\n",
    "\n",
    "\n",
    "\n",
    "if choice == 2:\n",
    "  print(\"Buy the items of your choice\")\n",
    "\n",
    "  amt=0\n",
    "  for i in pur:    \n",
    "    if(i in dic.keys()):\n",
    "        print('you ordered {} {}'.format(pur[i],dic[i]['name']))\n",
    "        print('Cost {} '.format(pur[i]*dic[i]['price']))\n",
    "        amt+=pur[i]*dic[i]['price']\n",
    "  print('Total bill : ',amt)\n",
    "\n",
    "  total={}\n",
    "  s=1\n",
    "  for i in pur:\n",
    "    if(i in dic.keys()):\n",
    "        sne={}\n",
    "        sne['item'] = dic[i]['name']\n",
    "        sne['quantity'] = pur[i]\n",
    "        sne['price'] = dic[i]['price']\n",
    "        sne['SP'] = dic[i]['price']*(1.0 - dic[i]['discount']/100.0)\n",
    "        sne['total'] = sne['SP']*pur[i]\n",
    "        total[s] = sne\n",
    "        s+=1\n",
    "  print(total)\n",
    "if choice == 3 :\n",
    "  print(\"Exit\")"
   ]
  },
  {
   "cell_type": "code",
   "execution_count": 9,
   "metadata": {},
   "outputs": [],
   "source": [
    "js = json.dumps(total)\n",
    "\n",
    "fd = open(\"sales.json\",'w')\n",
    "\n",
    "fd.write(js)\n",
    "\n",
    "fd.close()"
   ]
  },
  {
   "cell_type": "code",
   "execution_count": 10,
   "metadata": {},
   "outputs": [],
   "source": [
    "fd = open(\"sales.json\", 'r')\n",
    "t = fd.read()\n",
    "fd.close()"
   ]
  },
  {
   "cell_type": "code",
   "execution_count": 11,
   "metadata": {},
   "outputs": [],
   "source": [
    "js = json.dumps(total)\n",
    "\n",
    "fd = open(\"sales.txt\",'w')\n",
    "\n",
    "fd.write(js)\n",
    "\n",
    "fd.close()"
   ]
  },
  {
   "cell_type": "code",
   "execution_count": 12,
   "metadata": {},
   "outputs": [],
   "source": [
    "fd = open(\"sales.txt\", 'r')\n",
    "t = fd.read()\n",
    "fd.close()"
   ]
  },
  {
   "cell_type": "code",
   "execution_count": 13,
   "metadata": {},
   "outputs": [
    {
     "data": {
      "text/plain": [
       "'{\"1\": {\"item\": \"earphone\", \"quantity\": 3, \"price\": 189.0, \"SP\": 189.0, \"total\": 567.0}, \"2\": {\"item\": \"TEA\", \"quantity\": 6, \"price\": 49.0, \"SP\": 47.53, \"total\": 285.18}, \"3\": {\"item\": \"gooday\", \"quantity\": 8, \"price\": 149.0, \"SP\": 129.63, \"total\": 1037.04}, \"4\": {\"item\": \"HDD\", \"quantity\": 7, \"price\": 45.0, \"SP\": 43.199999999999996, \"total\": 302.4}, \"5\": {\"item\": \"hersheys\", \"quantity\": 2, \"price\": 149.0, \"SP\": 81.95, \"total\": 163.9}}'"
      ]
     },
     "execution_count": 13,
     "metadata": {},
     "output_type": "execute_result"
    }
   ],
   "source": [
    "t"
   ]
  },
  {
   "cell_type": "code",
   "execution_count": 14,
   "metadata": {},
   "outputs": [],
   "source": [
    "d = json.loads(t)"
   ]
  },
  {
   "cell_type": "code",
   "execution_count": 15,
   "metadata": {},
   "outputs": [
    {
     "data": {
      "text/plain": [
       "{'1': {'item': 'earphone',\n",
       "  'quantity': 3,\n",
       "  'price': 189.0,\n",
       "  'SP': 189.0,\n",
       "  'total': 567.0},\n",
       " '2': {'item': 'TEA',\n",
       "  'quantity': 6,\n",
       "  'price': 49.0,\n",
       "  'SP': 47.53,\n",
       "  'total': 285.18},\n",
       " '3': {'item': 'gooday',\n",
       "  'quantity': 8,\n",
       "  'price': 149.0,\n",
       "  'SP': 129.63,\n",
       "  'total': 1037.04},\n",
       " '4': {'item': 'HDD',\n",
       "  'quantity': 7,\n",
       "  'price': 45.0,\n",
       "  'SP': 43.199999999999996,\n",
       "  'total': 302.4},\n",
       " '5': {'item': 'hersheys',\n",
       "  'quantity': 2,\n",
       "  'price': 149.0,\n",
       "  'SP': 81.95,\n",
       "  'total': 163.9}}"
      ]
     },
     "execution_count": 15,
     "metadata": {},
     "output_type": "execute_result"
    }
   ],
   "source": [
    "d"
   ]
  },
  {
   "cell_type": "code",
   "execution_count": 16,
   "metadata": {},
   "outputs": [],
   "source": [
    "import time"
   ]
  },
  {
   "cell_type": "code",
   "execution_count": 17,
   "metadata": {},
   "outputs": [
    {
     "data": {
      "text/plain": [
       "'Mon Sep  6 18:20:20 2021'"
      ]
     },
     "execution_count": 17,
     "metadata": {},
     "output_type": "execute_result"
    }
   ],
   "source": [
    "time.ctime()"
   ]
  },
  {
   "cell_type": "code",
   "execution_count": null,
   "metadata": {},
   "outputs": [],
   "source": []
  }
 ],
 "metadata": {
  "kernelspec": {
   "display_name": "Python 3",
   "language": "python",
   "name": "python3"
  },
  "language_info": {
   "codemirror_mode": {
    "name": "ipython",
    "version": 3
   },
   "file_extension": ".py",
   "mimetype": "text/x-python",
   "name": "python",
   "nbconvert_exporter": "python",
   "pygments_lexer": "ipython3",
   "version": "3.7.6"
  }
 },
 "nbformat": 4,
 "nbformat_minor": 4
}
